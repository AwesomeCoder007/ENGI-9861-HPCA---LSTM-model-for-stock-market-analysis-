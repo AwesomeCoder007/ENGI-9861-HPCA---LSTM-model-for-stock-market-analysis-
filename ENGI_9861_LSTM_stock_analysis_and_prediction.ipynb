{
  "nbformat": 4,
  "nbformat_minor": 0,
  "metadata": {
    "colab": {
      "name": "ENGI_9861_LSTM_stock_analysis_and_prediction.ipynb",
      "provenance": [],
      "collapsed_sections": []
    },
    "kernelspec": {
      "name": "python3",
      "display_name": "Python 3"
    }
  },
  "cells": [
    {
      "cell_type": "code",
      "metadata": {
        "id": "3rCtMDSfT210",
        "colab_type": "code",
        "colab": {}
      },
      "source": [
        "# Name : Utkarsh Trivedi - ENGI 9861 HPCA Python Program \n",
        "# Email : ubtrivedi@mun.ca \n",
        "# Using LSTM to predict stock prices of a company  \n",
        "# For analysis I would be targeting the top 5 megacap companies which are Apple (AAPL), Microsoft(MSFT), Amazon(AMZN), Google(GOOGL) and Facebook(FB) as of 31/07/2020\n",
        "# Version : 5.2 (Last modified 31//07/2020)"
      ],
      "execution_count": null,
      "outputs": []
    },
    {
      "cell_type": "code",
      "metadata": {
        "id": "AXf22RxUfSGZ",
        "colab_type": "code",
        "colab": {
          "base_uri": "https://localhost:8080/",
          "height": 448
        },
        "outputId": "400714c4-cbb2-4ccb-86fb-34b4bcfbda09"
      },
      "source": [
        "#Importing all Python libraries\n",
        "import datetime\n",
        "import pandas_datareader as pdr\n",
        "import pandas as pd\n",
        "import numpy as np\n",
        "import math\n",
        "from sklearn.preprocessing import MinMaxScaler\n",
        "from tensorflow.python.keras.layers import Dense, LSTM\n",
        "from tensorflow.python.keras import Sequential\n",
        "import matplotlib.pyplot as mplt\n",
        "\n",
        "#Getting stock price from yahoo \n",
        "stock = input(\"Enter the stock symbol: \")\n",
        "dataframe = pdr.DataReader(stock, data_source='yahoo', start='2010-01-01', end='2020-07-29') \n",
        "dataframe"
      ],
      "execution_count": null,
      "outputs": [
        {
          "output_type": "stream",
          "text": [
            "Enter the stock symbol: MSFT\n"
          ],
          "name": "stdout"
        },
        {
          "output_type": "execute_result",
          "data": {
            "text/html": [
              "<div>\n",
              "<style scoped>\n",
              "    .dataframe tbody tr th:only-of-type {\n",
              "        vertical-align: middle;\n",
              "    }\n",
              "\n",
              "    .dataframe tbody tr th {\n",
              "        vertical-align: top;\n",
              "    }\n",
              "\n",
              "    .dataframe thead th {\n",
              "        text-align: right;\n",
              "    }\n",
              "</style>\n",
              "<table border=\"1\" class=\"dataframe\">\n",
              "  <thead>\n",
              "    <tr style=\"text-align: right;\">\n",
              "      <th></th>\n",
              "      <th>High</th>\n",
              "      <th>Low</th>\n",
              "      <th>Open</th>\n",
              "      <th>Close</th>\n",
              "      <th>Volume</th>\n",
              "      <th>Adj Close</th>\n",
              "    </tr>\n",
              "    <tr>\n",
              "      <th>Date</th>\n",
              "      <th></th>\n",
              "      <th></th>\n",
              "      <th></th>\n",
              "      <th></th>\n",
              "      <th></th>\n",
              "      <th></th>\n",
              "    </tr>\n",
              "  </thead>\n",
              "  <tbody>\n",
              "    <tr>\n",
              "      <th>2010-01-04</th>\n",
              "      <td>31.100000</td>\n",
              "      <td>30.590000</td>\n",
              "      <td>30.620001</td>\n",
              "      <td>30.950001</td>\n",
              "      <td>38409100.0</td>\n",
              "      <td>24.226894</td>\n",
              "    </tr>\n",
              "    <tr>\n",
              "      <th>2010-01-05</th>\n",
              "      <td>31.100000</td>\n",
              "      <td>30.639999</td>\n",
              "      <td>30.850000</td>\n",
              "      <td>30.959999</td>\n",
              "      <td>49749600.0</td>\n",
              "      <td>24.234720</td>\n",
              "    </tr>\n",
              "    <tr>\n",
              "      <th>2010-01-06</th>\n",
              "      <td>31.080000</td>\n",
              "      <td>30.520000</td>\n",
              "      <td>30.879999</td>\n",
              "      <td>30.770000</td>\n",
              "      <td>58182400.0</td>\n",
              "      <td>24.085989</td>\n",
              "    </tr>\n",
              "    <tr>\n",
              "      <th>2010-01-07</th>\n",
              "      <td>30.700001</td>\n",
              "      <td>30.190001</td>\n",
              "      <td>30.629999</td>\n",
              "      <td>30.450001</td>\n",
              "      <td>50559700.0</td>\n",
              "      <td>23.835503</td>\n",
              "    </tr>\n",
              "    <tr>\n",
              "      <th>2010-01-08</th>\n",
              "      <td>30.879999</td>\n",
              "      <td>30.240000</td>\n",
              "      <td>30.280001</td>\n",
              "      <td>30.660000</td>\n",
              "      <td>51197400.0</td>\n",
              "      <td>23.999893</td>\n",
              "    </tr>\n",
              "    <tr>\n",
              "      <th>...</th>\n",
              "      <td>...</td>\n",
              "      <td>...</td>\n",
              "      <td>...</td>\n",
              "      <td>...</td>\n",
              "      <td>...</td>\n",
              "      <td>...</td>\n",
              "    </tr>\n",
              "    <tr>\n",
              "      <th>2020-07-23</th>\n",
              "      <td>210.919998</td>\n",
              "      <td>202.149994</td>\n",
              "      <td>207.190002</td>\n",
              "      <td>202.539993</td>\n",
              "      <td>67457000.0</td>\n",
              "      <td>202.539993</td>\n",
              "    </tr>\n",
              "    <tr>\n",
              "      <th>2020-07-24</th>\n",
              "      <td>202.860001</td>\n",
              "      <td>197.509995</td>\n",
              "      <td>200.419998</td>\n",
              "      <td>201.300003</td>\n",
              "      <td>39827000.0</td>\n",
              "      <td>201.300003</td>\n",
              "    </tr>\n",
              "    <tr>\n",
              "      <th>2020-07-27</th>\n",
              "      <td>203.970001</td>\n",
              "      <td>200.860001</td>\n",
              "      <td>201.470001</td>\n",
              "      <td>203.850006</td>\n",
              "      <td>30160900.0</td>\n",
              "      <td>203.850006</td>\n",
              "    </tr>\n",
              "    <tr>\n",
              "      <th>2020-07-28</th>\n",
              "      <td>204.699997</td>\n",
              "      <td>201.740005</td>\n",
              "      <td>203.610001</td>\n",
              "      <td>202.020004</td>\n",
              "      <td>23251400.0</td>\n",
              "      <td>202.020004</td>\n",
              "    </tr>\n",
              "    <tr>\n",
              "      <th>2020-07-29</th>\n",
              "      <td>204.649994</td>\n",
              "      <td>202.009995</td>\n",
              "      <td>202.500000</td>\n",
              "      <td>204.059998</td>\n",
              "      <td>19632600.0</td>\n",
              "      <td>204.059998</td>\n",
              "    </tr>\n",
              "  </tbody>\n",
              "</table>\n",
              "<p>2661 rows × 6 columns</p>\n",
              "</div>"
            ],
            "text/plain": [
              "                  High         Low  ...      Volume   Adj Close\n",
              "Date                                ...                        \n",
              "2010-01-04   31.100000   30.590000  ...  38409100.0   24.226894\n",
              "2010-01-05   31.100000   30.639999  ...  49749600.0   24.234720\n",
              "2010-01-06   31.080000   30.520000  ...  58182400.0   24.085989\n",
              "2010-01-07   30.700001   30.190001  ...  50559700.0   23.835503\n",
              "2010-01-08   30.879999   30.240000  ...  51197400.0   23.999893\n",
              "...                ...         ...  ...         ...         ...\n",
              "2020-07-23  210.919998  202.149994  ...  67457000.0  202.539993\n",
              "2020-07-24  202.860001  197.509995  ...  39827000.0  201.300003\n",
              "2020-07-27  203.970001  200.860001  ...  30160900.0  203.850006\n",
              "2020-07-28  204.699997  201.740005  ...  23251400.0  202.020004\n",
              "2020-07-29  204.649994  202.009995  ...  19632600.0  204.059998\n",
              "\n",
              "[2661 rows x 6 columns]"
            ]
          },
          "metadata": {
            "tags": []
          },
          "execution_count": 109
        }
      ]
    },
    {
      "cell_type": "code",
      "metadata": {
        "id": "EfQheKLsnJ_2",
        "colab_type": "code",
        "colab": {
          "base_uri": "https://localhost:8080/",
          "height": 34
        },
        "outputId": "b7c1f0d6-8b39-453b-9f80-264b41429c73"
      },
      "source": [
        "# Getting the shape of our data frame\n",
        "dataframe.shape"
      ],
      "execution_count": null,
      "outputs": [
        {
          "output_type": "execute_result",
          "data": {
            "text/plain": [
              "(2661, 6)"
            ]
          },
          "metadata": {
            "tags": []
          },
          "execution_count": 106
        }
      ]
    },
    {
      "cell_type": "code",
      "metadata": {
        "id": "iyPQH1wUpev3",
        "colab_type": "code",
        "colab": {
          "base_uri": "https://localhost:8080/",
          "height": 572
        },
        "outputId": "3495fe25-b57b-470b-9fab-d8cec5ace57f"
      },
      "source": [
        "#Creating a graph to visualize the closing price history\n",
        "mplt.style.use('seaborn-pastel')\n",
        "mplt.figure(figsize=(18,9))\n",
        "mplt.title('Closing Price History')\n",
        "mplt.xlabel('Timeline',fontsize=15)\n",
        "mplt.ylabel('USD $',fontsize=15)\n",
        "mplt.plot(dataframe['Close'])\n",
        "mplt.show()"
      ],
      "execution_count": null,
      "outputs": [
        {
          "output_type": "display_data",
          "data": {
            "image/png": "[encoded data removed]",
            "text/plain": [
              "<Figure size 1296x648 with 1 Axes>"
            ]
          },
          "metadata": {
            "tags": [],
            "needs_background": "light"
          }
        }
      ]
    },
    {
      "cell_type": "code",
      "metadata": {
        "id": "HdxQMyvZtcFH",
        "colab_type": "code",
        "colab": {}
      },
      "source": [
        "#Creating a new dataframe with only the 'Close' column from the available data\n",
        "data = dataframe.filter(['Close'])\n",
        "\n",
        "#Converting the dataframe to a numpy array\n",
        "dataset = data.values\n",
        "\n",
        "#Creating a variable to store the length of the training dataset \n",
        "#We could ideally take 60 to 90 % of data from set for training\n",
        "#In our case we are taking 85 % of dataset for training \n",
        "training_data_length = math.ceil( len(dataset) *.85) \n",
        "\n",
        "#Scaling all the values of data inbetween 0 and 1\n",
        "#Scaling is done inorder to feed data better to a neural network\n",
        "scaler = MinMaxScaler(feature_range=(0, 1)) \n",
        "scaled_data = scaler.fit_transform(dataset)"
      ],
      "execution_count": null,
      "outputs": []
    },
    {
      "cell_type": "code",
      "metadata": {
        "id": "CaLQoxgHt4bN",
        "colab_type": "code",
        "colab": {
          "base_uri": "https://localhost:8080/",
          "height": 454
        },
        "outputId": "b4551c68-78b1-440f-b139-67bf973bb72e"
      },
      "source": [
        "#Create the scaled training data set \n",
        "train_data = scaled_data[0:training_data_length  , : ]\n",
        "\n",
        "#Split the data into x_train and y_train data sets\n",
        "x_train = []\n",
        "y_train = []\n",
        "\n",
        "for i in range(120,len(train_data)):\n",
        "    x_train.append(train_data[i-120:i, 0])\n",
        "    y_train.append(train_data[i, 0])\n",
        "    if i<= 120:\n",
        "      print(x_train)\n",
        "      print(y_train)\n",
        "      print()"
      ],
      "execution_count": null,
      "outputs": [
        {
          "output_type": "stream",
          "text": [
            "[array([0.04150332, 0.04155558, 0.04056244, 0.03888976, 0.03998745,\n",
            "       0.03794888, 0.03690345, 0.03836705, 0.04155558, 0.04103288,\n",
            "       0.04228739, 0.03962155, 0.03658983, 0.03110135, 0.03298311,\n",
            "       0.033924  , 0.03481261, 0.03214677, 0.0270242 , 0.02822644,\n",
            "       0.02848779, 0.0293764 , 0.02524698, 0.02618786, 0.02461972,\n",
            "       0.02613559, 0.02603105, 0.02671058, 0.02571742, 0.02791281,\n",
            "       0.02916732, 0.03115362, 0.0301082 , 0.02989911, 0.02780827,\n",
            "       0.0293764 , 0.02921959, 0.02958549, 0.03141498, 0.02848779,\n",
            "       0.02848779, 0.0293764 , 0.02916732, 0.0293764 , 0.03026501,\n",
            "       0.03115362, 0.03225132, 0.03272176, 0.03282631, 0.03324447,\n",
            "       0.03460352, 0.03449898, 0.03439444, 0.03444671, 0.0359103 ,\n",
            "       0.03470806, 0.03658983, 0.03476033, 0.03439444, 0.03533532,\n",
            "       0.03282631, 0.03214677, 0.03272176, 0.03298311, 0.03313993,\n",
            "       0.03611939, 0.03831478, 0.03821023, 0.03888976, 0.04082379,\n",
            "       0.04108515, 0.04003972, 0.04197376, 0.04364644, 0.04348962,\n",
            "       0.04380325, 0.04155558, 0.04233966, 0.04098061, 0.04129423,\n",
            "       0.04176467, 0.0393602 , 0.04103288, 0.03721708, 0.03575349,\n",
            "       0.03120589, 0.02718101, 0.03099681, 0.03068318, 0.03361037,\n",
            "       0.03256494, 0.03094454, 0.03099681, 0.02921959, 0.02733783,\n",
            "       0.02143119, 0.02001986, 0.01704041, 0.01599498, 0.01045424,\n",
            "       0.01562908, 0.01458365, 0.0150541 , 0.01803355, 0.02012441,\n",
            "       0.01453139, 0.01191783, 0.01097695, 0.00930427, 0.01040196,\n",
            "       0.01385186, 0.01301552, 0.01866081, 0.01730176, 0.01756312,\n",
            "       0.01792902, 0.01536773, 0.01442685, 0.01202237, 0.01040196])]\n",
            "[0.007945221898435231]\n",
            "\n"
          ],
          "name": "stdout"
        }
      ]
    },
    {
      "cell_type": "code",
      "metadata": {
        "id": "rnDnf_4mOfDl",
        "colab_type": "code",
        "colab": {}
      },
      "source": [
        "#Convert x_train (independant train dataset) and y_train (dependant train dataset) to numpy arrays\n",
        "# Conversion is done inorder to use them in LSTM network model\n",
        "x_train, y_train = np.array(x_train), np.array(y_train)\n",
        "\n",
        "#Coverting the data to three dimension form (samples , timesteps, features) which can be used in LSTM\n",
        "x_train = np.reshape(x_train, (x_train.shape[0],x_train.shape[1],1))"
      ],
      "execution_count": null,
      "outputs": []
    },
    {
      "cell_type": "code",
      "metadata": {
        "id": "aCUJzwYNRCHk",
        "colab_type": "code",
        "colab": {}
      },
      "source": [
        "#Constructing the LSTM network model\n",
        "#Two LSTM layers with 200 neurons each and two dense layers in which one is 100 neurons and other is 1 neuron respectively \n",
        "model = Sequential()\n",
        "model.add(LSTM(units=200, return_sequences=True,input_shape=(x_train.shape[1],1)))\n",
        "model.add(LSTM(units=200, return_sequences=False))\n",
        "model.add(Dense(units=75))\n",
        "model.add(Dense(units=1))"
      ],
      "execution_count": null,
      "outputs": []
    },
    {
      "cell_type": "code",
      "metadata": {
        "id": "HZe3O3dcRm5g",
        "colab_type": "code",
        "colab": {}
      },
      "source": [
        "#Compiling the LSTM model using Adam and  Nadam optimizer and mean squared error method\n",
        "model.compile(optimizer='Nadam', loss='mean_squared_error')"
      ],
      "execution_count": null,
      "outputs": []
    },
    {
      "cell_type": "code",
      "metadata": {
        "id": "HbrerWTxSMYs",
        "colab_type": "code",
        "colab": {
          "base_uri": "https://localhost:8080/",
          "height": 101
        },
        "outputId": "3821108a-ad69-4662-8c33-34b3bff48ef9"
      },
      "source": [
        "#Model Training\n",
        "#Batch size contains the total number of training samples in one batch\n",
        "#Epoch is the number of iterations when an entire dataset is passed forward or backward\n",
        "model.fit(x_train, y_train, batch_size=8, epochs=2)"
      ],
      "execution_count": null,
      "outputs": [
        {
          "output_type": "stream",
          "text": [
            "Epoch 1/2\n",
            "268/268 [==============================] - 98s 367ms/step - loss: 5.4990e-04\n",
            "Epoch 2/2\n",
            "268/268 [==============================] - 100s 371ms/step - loss: 1.5091e-04\n"
          ],
          "name": "stdout"
        },
        {
          "output_type": "execute_result",
          "data": {
            "text/plain": [
              "<tensorflow.python.keras.callbacks.History at 0x7fe96d304128>"
            ]
          },
          "metadata": {
            "tags": []
          },
          "execution_count": 116
        }
      ]
    },
    {
      "cell_type": "code",
      "metadata": {
        "id": "BORDsRwQTwFd",
        "colab_type": "code",
        "colab": {}
      },
      "source": [
        "#Creating a test data set\n",
        "test_data = scaled_data[training_data_length - 120: , : ]\n",
        "\n",
        "#Create the x_test and y_test data sets\n",
        "x_test = []\n",
        "y_test =  dataset[training_data_length : , : ] \n",
        "for i in range(120,len(test_data)):\n",
        "    x_test.append(test_data[i-120:i,0])\n",
        "\n",
        "#Convert independant x_test array to a numpy array to use it in LSTM model\n",
        "x_test = np.array(x_test)\n",
        "\n",
        "#Reshaping in to the three dimensional data (samples , timesteps, features) accepted by the LSTM \n",
        "x_test = np.reshape(x_test, (x_test.shape[0],x_test.shape[1],1))"
      ],
      "execution_count": null,
      "outputs": []
    },
    {
      "cell_type": "code",
      "metadata": {
        "id": "Bi6zQ6SEU7EG",
        "colab_type": "code",
        "colab": {
          "base_uri": "https://localhost:8080/",
          "height": 34
        },
        "outputId": "0cd68445-c5dc-41de-d6ad-141f69d2c557"
      },
      "source": [
        "#Using the test data getting the models predicted price values\n",
        "predictions = model.predict(x_test) \n",
        "\n",
        "#Reversing back by undoing the scaling\n",
        "predictions = scaler.inverse_transform(predictions)\n",
        "\n",
        "#Calculating the root mean square value and getting its value as output\n",
        "rmse=np.sqrt(np.mean(np.power((np.array(y_test)-np.array(predictions)),2)))\n",
        "rmse\n"
      ],
      "execution_count": null,
      "outputs": [
        {
          "output_type": "execute_result",
          "data": {
            "text/plain": [
              "4.768976151187155"
            ]
          },
          "metadata": {
            "tags": []
          },
          "execution_count": 118
        }
      ]
    },
    {
      "cell_type": "code",
      "metadata": {
        "id": "VV3tod0dFCjk",
        "colab_type": "code",
        "colab": {
          "base_uri": "https://localhost:8080/",
          "height": 673
        },
        "outputId": "74f6c205-0f88-4aa5-ea40-31c5a41f10d3"
      },
      "source": [
        "#Plotting and visualizing the data for the graph\n",
        "train = data[:training_data_length]\n",
        "valid = data[training_data_length:]\n",
        "valid['Predictions'] = predictions\n",
        "\n",
        "#Visualize the data\n",
        "mplt.figure(figsize=(18,9))\n",
        "mplt.title('LSTM Trained Model')\n",
        "mplt.xlabel('Timeline', fontsize=15)\n",
        "mplt.ylabel('USD $', fontsize=15)\n",
        "mplt.plot(train['Close'])\n",
        "mplt.plot(valid[['Close', 'Predictions']])\n",
        "mplt.legend(['Trained Data', 'Valid Data', 'Predictions Data'], loc='upper left')\n",
        "mplt.show()"
      ],
      "execution_count": null,
      "outputs": [
        {
          "output_type": "stream",
          "text": [
            "/usr/local/lib/python3.6/dist-packages/ipykernel_launcher.py:4: SettingWithCopyWarning: \n",
            "A value is trying to be set on a copy of a slice from a DataFrame.\n",
            "Try using .loc[row_indexer,col_indexer] = value instead\n",
            "\n",
            "See the caveats in the documentation: https://pandas.pydata.org/pandas-docs/stable/user_guide/indexing.html#returning-a-view-versus-a-copy\n",
            "  after removing the cwd from sys.path.\n"
          ],
          "name": "stderr"
        },
        {
          "output_type": "display_data",
          "data": {
            "image/png": "[encoded data removed]",
            "text/plain": [
              "<Figure size 1296x648 with 1 Axes>"
            ]
          },
          "metadata": {
            "tags": [],
            "needs_background": "light"
          }
        }
      ]
    },
    {
      "cell_type": "code",
      "metadata": {
        "id": "JOCNNdxnE4vZ",
        "colab_type": "code",
        "colab": {
          "base_uri": "https://localhost:8080/",
          "height": 431
        },
        "outputId": "f6097719-923c-472e-e584-22d7929e725c"
      },
      "source": [
        "# Comparing actual price with the prediction price\n",
        "valid"
      ],
      "execution_count": null,
      "outputs": [
        {
          "output_type": "execute_result",
          "data": {
            "text/html": [
              "<div>\n",
              "<style scoped>\n",
              "    .dataframe tbody tr th:only-of-type {\n",
              "        vertical-align: middle;\n",
              "    }\n",
              "\n",
              "    .dataframe tbody tr th {\n",
              "        vertical-align: top;\n",
              "    }\n",
              "\n",
              "    .dataframe thead th {\n",
              "        text-align: right;\n",
              "    }\n",
              "</style>\n",
              "<table border=\"1\" class=\"dataframe\">\n",
              "  <thead>\n",
              "    <tr style=\"text-align: right;\">\n",
              "      <th></th>\n",
              "      <th>Close</th>\n",
              "      <th>Predictions</th>\n",
              "    </tr>\n",
              "    <tr>\n",
              "      <th>Date</th>\n",
              "      <th></th>\n",
              "      <th></th>\n",
              "    </tr>\n",
              "  </thead>\n",
              "  <tbody>\n",
              "    <tr>\n",
              "      <th>2018-12-28</th>\n",
              "      <td>100.389999</td>\n",
              "      <td>104.674751</td>\n",
              "    </tr>\n",
              "    <tr>\n",
              "      <th>2018-12-31</th>\n",
              "      <td>101.570000</td>\n",
              "      <td>104.294151</td>\n",
              "    </tr>\n",
              "    <tr>\n",
              "      <th>2019-01-02</th>\n",
              "      <td>101.120003</td>\n",
              "      <td>104.174583</td>\n",
              "    </tr>\n",
              "    <tr>\n",
              "      <th>2019-01-03</th>\n",
              "      <td>97.400002</td>\n",
              "      <td>104.156906</td>\n",
              "    </tr>\n",
              "    <tr>\n",
              "      <th>2019-01-04</th>\n",
              "      <td>101.930000</td>\n",
              "      <td>103.832253</td>\n",
              "    </tr>\n",
              "    <tr>\n",
              "      <th>...</th>\n",
              "      <td>...</td>\n",
              "      <td>...</td>\n",
              "    </tr>\n",
              "    <tr>\n",
              "      <th>2020-07-23</th>\n",
              "      <td>202.539993</td>\n",
              "      <td>207.234802</td>\n",
              "    </tr>\n",
              "    <tr>\n",
              "      <th>2020-07-24</th>\n",
              "      <td>201.300003</td>\n",
              "      <td>206.868347</td>\n",
              "    </tr>\n",
              "    <tr>\n",
              "      <th>2020-07-27</th>\n",
              "      <td>203.850006</td>\n",
              "      <td>206.069321</td>\n",
              "    </tr>\n",
              "    <tr>\n",
              "      <th>2020-07-28</th>\n",
              "      <td>202.020004</td>\n",
              "      <td>205.377045</td>\n",
              "    </tr>\n",
              "    <tr>\n",
              "      <th>2020-07-29</th>\n",
              "      <td>204.059998</td>\n",
              "      <td>204.625275</td>\n",
              "    </tr>\n",
              "  </tbody>\n",
              "</table>\n",
              "<p>399 rows × 2 columns</p>\n",
              "</div>"
            ],
            "text/plain": [
              "                 Close  Predictions\n",
              "Date                               \n",
              "2018-12-28  100.389999   104.674751\n",
              "2018-12-31  101.570000   104.294151\n",
              "2019-01-02  101.120003   104.174583\n",
              "2019-01-03   97.400002   104.156906\n",
              "2019-01-04  101.930000   103.832253\n",
              "...                ...          ...\n",
              "2020-07-23  202.539993   207.234802\n",
              "2020-07-24  201.300003   206.868347\n",
              "2020-07-27  203.850006   206.069321\n",
              "2020-07-28  202.020004   205.377045\n",
              "2020-07-29  204.059998   204.625275\n",
              "\n",
              "[399 rows x 2 columns]"
            ]
          },
          "metadata": {
            "tags": []
          },
          "execution_count": 120
        }
      ]
    }
  ]
}